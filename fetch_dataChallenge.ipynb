{
 "cells": [
  {
   "attachments": {},
   "cell_type": "markdown",
   "metadata": {},
   "source": [
    "# Import data and format transformation"
   ]
  },
  {
   "cell_type": "code",
   "execution_count": 26,
   "metadata": {},
   "outputs": [
    {
     "data": {
      "text/html": [
       "<div>\n",
       "<style scoped>\n",
       "    .dataframe tbody tr th:only-of-type {\n",
       "        vertical-align: middle;\n",
       "    }\n",
       "\n",
       "    .dataframe tbody tr th {\n",
       "        vertical-align: top;\n",
       "    }\n",
       "\n",
       "    .dataframe thead th {\n",
       "        text-align: right;\n",
       "    }\n",
       "</style>\n",
       "<table border=\"1\" class=\"dataframe\">\n",
       "  <thead>\n",
       "    <tr style=\"text-align: right;\">\n",
       "      <th></th>\n",
       "      <th>_id</th>\n",
       "      <th>bonusPointsEarned</th>\n",
       "      <th>bonusPointsEarnedReason</th>\n",
       "      <th>createDate</th>\n",
       "      <th>dateScanned</th>\n",
       "      <th>finishedDate</th>\n",
       "      <th>modifyDate</th>\n",
       "      <th>pointsAwardedDate</th>\n",
       "      <th>pointsEarned</th>\n",
       "      <th>purchaseDate</th>\n",
       "      <th>purchasedItemCount</th>\n",
       "      <th>rewardsReceiptItemList</th>\n",
       "      <th>rewardsReceiptStatus</th>\n",
       "      <th>totalSpent</th>\n",
       "      <th>userId</th>\n",
       "    </tr>\n",
       "  </thead>\n",
       "  <tbody>\n",
       "    <tr>\n",
       "      <th>0</th>\n",
       "      <td>{'$oid': '5ff1e1eb0a720f0523000575'}</td>\n",
       "      <td>500.0</td>\n",
       "      <td>Receipt number 2 completed, bonus point schedu...</td>\n",
       "      <td>{'$date': 1609687531000}</td>\n",
       "      <td>{'$date': 1609687531000}</td>\n",
       "      <td>{'$date': 1609687531000}</td>\n",
       "      <td>{'$date': 1609687536000}</td>\n",
       "      <td>{'$date': 1609687531000}</td>\n",
       "      <td>500.0</td>\n",
       "      <td>{'$date': 1609632000000}</td>\n",
       "      <td>5.0</td>\n",
       "      <td>[{'barcode': '4011', 'description': 'ITEM NOT ...</td>\n",
       "      <td>FINISHED</td>\n",
       "      <td>26.0</td>\n",
       "      <td>5ff1e1eacfcf6c399c274ae6</td>\n",
       "    </tr>\n",
       "    <tr>\n",
       "      <th>1</th>\n",
       "      <td>{'$oid': '5ff1e1bb0a720f052300056b'}</td>\n",
       "      <td>150.0</td>\n",
       "      <td>Receipt number 5 completed, bonus point schedu...</td>\n",
       "      <td>{'$date': 1609687483000}</td>\n",
       "      <td>{'$date': 1609687483000}</td>\n",
       "      <td>{'$date': 1609687483000}</td>\n",
       "      <td>{'$date': 1609687488000}</td>\n",
       "      <td>{'$date': 1609687483000}</td>\n",
       "      <td>150.0</td>\n",
       "      <td>{'$date': 1609601083000}</td>\n",
       "      <td>2.0</td>\n",
       "      <td>[{'barcode': '4011', 'description': 'ITEM NOT ...</td>\n",
       "      <td>FINISHED</td>\n",
       "      <td>11.0</td>\n",
       "      <td>5ff1e194b6a9d73a3a9f1052</td>\n",
       "    </tr>\n",
       "    <tr>\n",
       "      <th>2</th>\n",
       "      <td>{'$oid': '5ff1e1f10a720f052300057a'}</td>\n",
       "      <td>5.0</td>\n",
       "      <td>All-receipts receipt bonus</td>\n",
       "      <td>{'$date': 1609687537000}</td>\n",
       "      <td>{'$date': 1609687537000}</td>\n",
       "      <td>NaN</td>\n",
       "      <td>{'$date': 1609687542000}</td>\n",
       "      <td>NaN</td>\n",
       "      <td>5.0</td>\n",
       "      <td>{'$date': 1609632000000}</td>\n",
       "      <td>1.0</td>\n",
       "      <td>[{'needsFetchReview': False, 'partnerItemId': ...</td>\n",
       "      <td>REJECTED</td>\n",
       "      <td>10.0</td>\n",
       "      <td>5ff1e1f1cfcf6c399c274b0b</td>\n",
       "    </tr>\n",
       "  </tbody>\n",
       "</table>\n",
       "</div>"
      ],
      "text/plain": [
       "                                    _id  bonusPointsEarned  \\\n",
       "0  {'$oid': '5ff1e1eb0a720f0523000575'}              500.0   \n",
       "1  {'$oid': '5ff1e1bb0a720f052300056b'}              150.0   \n",
       "2  {'$oid': '5ff1e1f10a720f052300057a'}                5.0   \n",
       "\n",
       "                             bonusPointsEarnedReason  \\\n",
       "0  Receipt number 2 completed, bonus point schedu...   \n",
       "1  Receipt number 5 completed, bonus point schedu...   \n",
       "2                         All-receipts receipt bonus   \n",
       "\n",
       "                 createDate               dateScanned  \\\n",
       "0  {'$date': 1609687531000}  {'$date': 1609687531000}   \n",
       "1  {'$date': 1609687483000}  {'$date': 1609687483000}   \n",
       "2  {'$date': 1609687537000}  {'$date': 1609687537000}   \n",
       "\n",
       "               finishedDate                modifyDate  \\\n",
       "0  {'$date': 1609687531000}  {'$date': 1609687536000}   \n",
       "1  {'$date': 1609687483000}  {'$date': 1609687488000}   \n",
       "2                       NaN  {'$date': 1609687542000}   \n",
       "\n",
       "          pointsAwardedDate  pointsEarned              purchaseDate  \\\n",
       "0  {'$date': 1609687531000}         500.0  {'$date': 1609632000000}   \n",
       "1  {'$date': 1609687483000}         150.0  {'$date': 1609601083000}   \n",
       "2                       NaN           5.0  {'$date': 1609632000000}   \n",
       "\n",
       "   purchasedItemCount                             rewardsReceiptItemList  \\\n",
       "0                 5.0  [{'barcode': '4011', 'description': 'ITEM NOT ...   \n",
       "1                 2.0  [{'barcode': '4011', 'description': 'ITEM NOT ...   \n",
       "2                 1.0  [{'needsFetchReview': False, 'partnerItemId': ...   \n",
       "\n",
       "  rewardsReceiptStatus  totalSpent                    userId  \n",
       "0             FINISHED        26.0  5ff1e1eacfcf6c399c274ae6  \n",
       "1             FINISHED        11.0  5ff1e194b6a9d73a3a9f1052  \n",
       "2             REJECTED        10.0  5ff1e1f1cfcf6c399c274b0b  "
      ]
     },
     "execution_count": 26,
     "metadata": {},
     "output_type": "execute_result"
    }
   ],
   "source": [
    "# import receipt data from json file\n",
    "import pandas as pd\n",
    "import numpy as np\n",
    "\n",
    "receipts = pd.read_json('data/receipts.json', lines=True)\n",
    "receipts.head(3)"
   ]
  },
  {
   "attachments": {},
   "cell_type": "markdown",
   "metadata": {},
   "source": [
    "### Replace the dictionary columns with its values"
   ]
  },
  {
   "cell_type": "code",
   "execution_count": 27,
   "metadata": {},
   "outputs": [],
   "source": [
    "# handle date format and return as string\n",
    "def handle_dateFormat(x):\n",
    "    values = x.apply(lambda x: x['$date'] if isinstance(x, dict) else pd.NaT)\n",
    "    dt_values = pd.to_datetime(values, unit='ms')\n",
    "\n",
    "    return dt_values.dt.strftime('%Y-%m-%d %H:%M:%S')"
   ]
  },
  {
   "cell_type": "code",
   "execution_count": 28,
   "metadata": {},
   "outputs": [
    {
     "data": {
      "text/html": [
       "<div>\n",
       "<style scoped>\n",
       "    .dataframe tbody tr th:only-of-type {\n",
       "        vertical-align: middle;\n",
       "    }\n",
       "\n",
       "    .dataframe tbody tr th {\n",
       "        vertical-align: top;\n",
       "    }\n",
       "\n",
       "    .dataframe thead th {\n",
       "        text-align: right;\n",
       "    }\n",
       "</style>\n",
       "<table border=\"1\" class=\"dataframe\">\n",
       "  <thead>\n",
       "    <tr style=\"text-align: right;\">\n",
       "      <th></th>\n",
       "      <th>_id</th>\n",
       "      <th>bonusPointsEarned</th>\n",
       "      <th>bonusPointsEarnedReason</th>\n",
       "      <th>createDate</th>\n",
       "      <th>dateScanned</th>\n",
       "      <th>finishedDate</th>\n",
       "      <th>modifyDate</th>\n",
       "      <th>pointsAwardedDate</th>\n",
       "      <th>pointsEarned</th>\n",
       "      <th>purchaseDate</th>\n",
       "      <th>purchasedItemCount</th>\n",
       "      <th>rewardsReceiptItemList</th>\n",
       "      <th>rewardsReceiptStatus</th>\n",
       "      <th>totalSpent</th>\n",
       "      <th>userId</th>\n",
       "    </tr>\n",
       "  </thead>\n",
       "  <tbody>\n",
       "    <tr>\n",
       "      <th>0</th>\n",
       "      <td>5ff1e1eb0a720f0523000575</td>\n",
       "      <td>500.0</td>\n",
       "      <td>Receipt number 2 completed, bonus point schedu...</td>\n",
       "      <td>2021-01-03 15:25:31</td>\n",
       "      <td>2021-01-03 15:25:31</td>\n",
       "      <td>2021-01-03 15:25:31</td>\n",
       "      <td>2021-01-03 15:25:36</td>\n",
       "      <td>2021-01-03 15:25:31</td>\n",
       "      <td>500.0</td>\n",
       "      <td>2021-01-03 00:00:00</td>\n",
       "      <td>5.0</td>\n",
       "      <td>[{'barcode': '4011', 'description': 'ITEM NOT ...</td>\n",
       "      <td>FINISHED</td>\n",
       "      <td>26.0</td>\n",
       "      <td>5ff1e1eacfcf6c399c274ae6</td>\n",
       "    </tr>\n",
       "    <tr>\n",
       "      <th>1</th>\n",
       "      <td>5ff1e1bb0a720f052300056b</td>\n",
       "      <td>150.0</td>\n",
       "      <td>Receipt number 5 completed, bonus point schedu...</td>\n",
       "      <td>2021-01-03 15:24:43</td>\n",
       "      <td>2021-01-03 15:24:43</td>\n",
       "      <td>2021-01-03 15:24:43</td>\n",
       "      <td>2021-01-03 15:24:48</td>\n",
       "      <td>2021-01-03 15:24:43</td>\n",
       "      <td>150.0</td>\n",
       "      <td>2021-01-02 15:24:43</td>\n",
       "      <td>2.0</td>\n",
       "      <td>[{'barcode': '4011', 'description': 'ITEM NOT ...</td>\n",
       "      <td>FINISHED</td>\n",
       "      <td>11.0</td>\n",
       "      <td>5ff1e194b6a9d73a3a9f1052</td>\n",
       "    </tr>\n",
       "    <tr>\n",
       "      <th>2</th>\n",
       "      <td>5ff1e1f10a720f052300057a</td>\n",
       "      <td>5.0</td>\n",
       "      <td>All-receipts receipt bonus</td>\n",
       "      <td>2021-01-03 15:25:37</td>\n",
       "      <td>2021-01-03 15:25:37</td>\n",
       "      <td>NaN</td>\n",
       "      <td>2021-01-03 15:25:42</td>\n",
       "      <td>NaN</td>\n",
       "      <td>5.0</td>\n",
       "      <td>2021-01-03 00:00:00</td>\n",
       "      <td>1.0</td>\n",
       "      <td>[{'needsFetchReview': False, 'partnerItemId': ...</td>\n",
       "      <td>REJECTED</td>\n",
       "      <td>10.0</td>\n",
       "      <td>5ff1e1f1cfcf6c399c274b0b</td>\n",
       "    </tr>\n",
       "  </tbody>\n",
       "</table>\n",
       "</div>"
      ],
      "text/plain": [
       "                        _id  bonusPointsEarned  \\\n",
       "0  5ff1e1eb0a720f0523000575              500.0   \n",
       "1  5ff1e1bb0a720f052300056b              150.0   \n",
       "2  5ff1e1f10a720f052300057a                5.0   \n",
       "\n",
       "                             bonusPointsEarnedReason           createDate  \\\n",
       "0  Receipt number 2 completed, bonus point schedu...  2021-01-03 15:25:31   \n",
       "1  Receipt number 5 completed, bonus point schedu...  2021-01-03 15:24:43   \n",
       "2                         All-receipts receipt bonus  2021-01-03 15:25:37   \n",
       "\n",
       "           dateScanned         finishedDate           modifyDate  \\\n",
       "0  2021-01-03 15:25:31  2021-01-03 15:25:31  2021-01-03 15:25:36   \n",
       "1  2021-01-03 15:24:43  2021-01-03 15:24:43  2021-01-03 15:24:48   \n",
       "2  2021-01-03 15:25:37                  NaN  2021-01-03 15:25:42   \n",
       "\n",
       "     pointsAwardedDate  pointsEarned         purchaseDate  purchasedItemCount  \\\n",
       "0  2021-01-03 15:25:31         500.0  2021-01-03 00:00:00                 5.0   \n",
       "1  2021-01-03 15:24:43         150.0  2021-01-02 15:24:43                 2.0   \n",
       "2                  NaN           5.0  2021-01-03 00:00:00                 1.0   \n",
       "\n",
       "                              rewardsReceiptItemList rewardsReceiptStatus  \\\n",
       "0  [{'barcode': '4011', 'description': 'ITEM NOT ...             FINISHED   \n",
       "1  [{'barcode': '4011', 'description': 'ITEM NOT ...             FINISHED   \n",
       "2  [{'needsFetchReview': False, 'partnerItemId': ...             REJECTED   \n",
       "\n",
       "   totalSpent                    userId  \n",
       "0        26.0  5ff1e1eacfcf6c399c274ae6  \n",
       "1        11.0  5ff1e194b6a9d73a3a9f1052  \n",
       "2        10.0  5ff1e1f1cfcf6c399c274b0b  "
      ]
     },
     "execution_count": 28,
     "metadata": {},
     "output_type": "execute_result"
    }
   ],
   "source": [
    "receipts['createDate'] = handle_dateFormat(receipts['createDate'])\n",
    "receipts['dateScanned'] = handle_dateFormat(receipts['dateScanned'])\n",
    "receipts['finishedDate'] = handle_dateFormat(receipts['finishedDate'])\n",
    "receipts['modifyDate'] = handle_dateFormat(receipts['modifyDate'])\n",
    "receipts['pointsAwardedDate'] = handle_dateFormat(receipts['pointsAwardedDate'])\n",
    "receipts['purchaseDate'] = handle_dateFormat(receipts['purchaseDate'])\n",
    "\n",
    "# handle _id column\n",
    "receipts['_id'] = receipts['_id'].apply(lambda x: x['$oid'])\n",
    "receipts.head(3)"
   ]
  },
  {
   "attachments": {},
   "cell_type": "markdown",
   "metadata": {},
   "source": [
    "#### Since there are lots of items stored on the rewardlist column, I create another table called rewardList to store the price, brand etc for each reward items.  "
   ]
  },
  {
   "cell_type": "code",
   "execution_count": 29,
   "metadata": {},
   "outputs": [
    {
     "data": {
      "text/html": [
       "<div>\n",
       "<style scoped>\n",
       "    .dataframe tbody tr th:only-of-type {\n",
       "        vertical-align: middle;\n",
       "    }\n",
       "\n",
       "    .dataframe tbody tr th {\n",
       "        vertical-align: top;\n",
       "    }\n",
       "\n",
       "    .dataframe thead th {\n",
       "        text-align: right;\n",
       "    }\n",
       "</style>\n",
       "<table border=\"1\" class=\"dataframe\">\n",
       "  <thead>\n",
       "    <tr style=\"text-align: right;\">\n",
       "      <th></th>\n",
       "      <th>_id</th>\n",
       "      <th>bonusPointsEarned</th>\n",
       "      <th>bonusPointsEarnedReason</th>\n",
       "      <th>createDate</th>\n",
       "      <th>dateScanned</th>\n",
       "      <th>finishedDate</th>\n",
       "      <th>modifyDate</th>\n",
       "      <th>pointsAwardedDate</th>\n",
       "      <th>pointsEarned</th>\n",
       "      <th>purchaseDate</th>\n",
       "      <th>purchasedItemCount</th>\n",
       "      <th>rewardsReceiptItemList</th>\n",
       "      <th>rewardsReceiptStatus</th>\n",
       "      <th>totalSpent</th>\n",
       "      <th>userId</th>\n",
       "    </tr>\n",
       "  </thead>\n",
       "  <tbody>\n",
       "    <tr>\n",
       "      <th>0</th>\n",
       "      <td>5ff1e1eb0a720f0523000575</td>\n",
       "      <td>500.0</td>\n",
       "      <td>Receipt number 2 completed, bonus point schedu...</td>\n",
       "      <td>2021-01-03 15:25:31</td>\n",
       "      <td>2021-01-03 15:25:31</td>\n",
       "      <td>2021-01-03 15:25:31</td>\n",
       "      <td>2021-01-03 15:25:36</td>\n",
       "      <td>2021-01-03 15:25:31</td>\n",
       "      <td>500.0</td>\n",
       "      <td>2021-01-03 00:00:00</td>\n",
       "      <td>5.0</td>\n",
       "      <td>[{'barcode': '4011', 'description': 'ITEM NOT ...</td>\n",
       "      <td>FINISHED</td>\n",
       "      <td>26.0</td>\n",
       "      <td>5ff1e1eacfcf6c399c274ae6</td>\n",
       "    </tr>\n",
       "    <tr>\n",
       "      <th>1</th>\n",
       "      <td>5ff1e1bb0a720f052300056b</td>\n",
       "      <td>150.0</td>\n",
       "      <td>Receipt number 5 completed, bonus point schedu...</td>\n",
       "      <td>2021-01-03 15:24:43</td>\n",
       "      <td>2021-01-03 15:24:43</td>\n",
       "      <td>2021-01-03 15:24:43</td>\n",
       "      <td>2021-01-03 15:24:48</td>\n",
       "      <td>2021-01-03 15:24:43</td>\n",
       "      <td>150.0</td>\n",
       "      <td>2021-01-02 15:24:43</td>\n",
       "      <td>2.0</td>\n",
       "      <td>[{'barcode': '4011', 'description': 'ITEM NOT ...</td>\n",
       "      <td>FINISHED</td>\n",
       "      <td>11.0</td>\n",
       "      <td>5ff1e194b6a9d73a3a9f1052</td>\n",
       "    </tr>\n",
       "    <tr>\n",
       "      <th>3</th>\n",
       "      <td>5ff1e1ee0a7214ada100056f</td>\n",
       "      <td>5.0</td>\n",
       "      <td>All-receipts receipt bonus</td>\n",
       "      <td>2021-01-03 15:25:34</td>\n",
       "      <td>2021-01-03 15:25:34</td>\n",
       "      <td>2021-01-03 15:25:34</td>\n",
       "      <td>2021-01-03 15:25:39</td>\n",
       "      <td>2021-01-03 15:25:34</td>\n",
       "      <td>5.0</td>\n",
       "      <td>2021-01-03 00:00:00</td>\n",
       "      <td>4.0</td>\n",
       "      <td>[{'barcode': '4011', 'description': 'ITEM NOT ...</td>\n",
       "      <td>FINISHED</td>\n",
       "      <td>28.0</td>\n",
       "      <td>5ff1e1eacfcf6c399c274ae6</td>\n",
       "    </tr>\n",
       "  </tbody>\n",
       "</table>\n",
       "</div>"
      ],
      "text/plain": [
       "                        _id  bonusPointsEarned  \\\n",
       "0  5ff1e1eb0a720f0523000575              500.0   \n",
       "1  5ff1e1bb0a720f052300056b              150.0   \n",
       "3  5ff1e1ee0a7214ada100056f                5.0   \n",
       "\n",
       "                             bonusPointsEarnedReason           createDate  \\\n",
       "0  Receipt number 2 completed, bonus point schedu...  2021-01-03 15:25:31   \n",
       "1  Receipt number 5 completed, bonus point schedu...  2021-01-03 15:24:43   \n",
       "3                         All-receipts receipt bonus  2021-01-03 15:25:34   \n",
       "\n",
       "           dateScanned         finishedDate           modifyDate  \\\n",
       "0  2021-01-03 15:25:31  2021-01-03 15:25:31  2021-01-03 15:25:36   \n",
       "1  2021-01-03 15:24:43  2021-01-03 15:24:43  2021-01-03 15:24:48   \n",
       "3  2021-01-03 15:25:34  2021-01-03 15:25:34  2021-01-03 15:25:39   \n",
       "\n",
       "     pointsAwardedDate  pointsEarned         purchaseDate  purchasedItemCount  \\\n",
       "0  2021-01-03 15:25:31         500.0  2021-01-03 00:00:00                 5.0   \n",
       "1  2021-01-03 15:24:43         150.0  2021-01-02 15:24:43                 2.0   \n",
       "3  2021-01-03 15:25:34           5.0  2021-01-03 00:00:00                 4.0   \n",
       "\n",
       "                              rewardsReceiptItemList rewardsReceiptStatus  \\\n",
       "0  [{'barcode': '4011', 'description': 'ITEM NOT ...             FINISHED   \n",
       "1  [{'barcode': '4011', 'description': 'ITEM NOT ...             FINISHED   \n",
       "3  [{'barcode': '4011', 'description': 'ITEM NOT ...             FINISHED   \n",
       "\n",
       "   totalSpent                    userId  \n",
       "0        26.0  5ff1e1eacfcf6c399c274ae6  \n",
       "1        11.0  5ff1e194b6a9d73a3a9f1052  \n",
       "3        28.0  5ff1e1eacfcf6c399c274ae6  "
      ]
     },
     "execution_count": 29,
     "metadata": {},
     "output_type": "execute_result"
    }
   ],
   "source": [
    "#filter all the rows that are rewardsReceiptStatus is not FINISHED and purchasedItemCount > 0\n",
    "receipts_finished = receipts[(receipts['rewardsReceiptStatus'] == 'FINISHED') & (receipts['purchasedItemCount'] > 0)]\n",
    "receipts_finished.head(3)"
   ]
  },
  {
   "cell_type": "code",
   "execution_count": 30,
   "metadata": {},
   "outputs": [],
   "source": [
    "# create a new dataframe to store the information in the rewardsReceiptItemList column that divide every item into a row\n",
    "receipts_rewardList = pd.DataFrame(columns=['receipt_id', 'barcode', 'description', 'finalPrice', 'itemPrice', 'needsFetchReview', 'partnerItemId', 'preventTargetGapPoints', 'quantityPurchased', 'userFlaggedBarcode', 'userFlaggedNewItem', 'userFlaggedPrice', 'userFlaggedQuantity', 'needsFetchReviewReason', 'pointsNotAwardedReason', 'pointsPayerId', 'rewardsGroup', 'rewardsProductPartnerId', 'userFlaggedDescription', 'originalMetaBriteBarcode', 'originalMetaBriteDescription', 'brandCode', 'competitorRewardsGroup', 'discountedItemPrice', 'originalReceiptItemText', 'itemNumber', 'originalMetaBriteQuantityPurchased', 'pointsEarned', 'targetPrice', 'competitiveProduct', 'originalFinalPrice', 'originalMetaBriteItemPrice', 'deleted', 'priceAfterCoupon', 'metabriteCampaignId', 'originalMetaBriteNeedsFetchReview', 'originalMetaBritePartnerItemId', 'pointsAwardedDate', 'rewardsReceiptStatus', 'totalSpent', 'userId', 'rewardsReceiptItemList_id'])\n",
    "\n",
    "# divide the information in the rewardsReceiptItemList column into the new dataframe with corresponding columns\n",
    "for i in range(len(receipts_finished)):\n",
    "    for j in range(len(receipts_finished['rewardsReceiptItemList'].iloc[i])):\n",
    "        receipts_rewardList = receipts_rewardList.append(receipts_finished['rewardsReceiptItemList'].iloc[i][j], ignore_index=True)\n",
    "        receipts_rewardList['receipt_id'].iloc[-1] = receipts_finished['_id'].iloc[i]\n",
    "\n",
    "receipts_rewardList.head(3)\n",
    "\n",
    "# save the dataframe into a csv file\n",
    "receipts_rewardList.to_csv('data/receipts_rewardList.csv', index=False)"
   ]
  },
  {
   "cell_type": "code",
   "execution_count": 31,
   "metadata": {},
   "outputs": [],
   "source": [
    "# drop the rewardsReceiptItemList column in the receipt dataframe\n",
    "receipts = receipts.drop(columns=['rewardsReceiptItemList'])\n",
    "\n",
    "# save the dataframe into a csv file \n",
    "receipts.to_csv('data/receipts_updated.csv', index=False)"
   ]
  },
  {
   "attachments": {},
   "cell_type": "markdown",
   "metadata": {},
   "source": [
    "## Load brands data"
   ]
  },
  {
   "cell_type": "code",
   "execution_count": 32,
   "metadata": {},
   "outputs": [
    {
     "data": {
      "text/html": [
       "<div>\n",
       "<style scoped>\n",
       "    .dataframe tbody tr th:only-of-type {\n",
       "        vertical-align: middle;\n",
       "    }\n",
       "\n",
       "    .dataframe tbody tr th {\n",
       "        vertical-align: top;\n",
       "    }\n",
       "\n",
       "    .dataframe thead th {\n",
       "        text-align: right;\n",
       "    }\n",
       "</style>\n",
       "<table border=\"1\" class=\"dataframe\">\n",
       "  <thead>\n",
       "    <tr style=\"text-align: right;\">\n",
       "      <th></th>\n",
       "      <th>_id</th>\n",
       "      <th>barcode</th>\n",
       "      <th>category</th>\n",
       "      <th>categoryCode</th>\n",
       "      <th>name</th>\n",
       "      <th>topBrand</th>\n",
       "      <th>brandCode</th>\n",
       "      <th>cpg_id</th>\n",
       "      <th>cpg_ref</th>\n",
       "    </tr>\n",
       "  </thead>\n",
       "  <tbody>\n",
       "    <tr>\n",
       "      <th>0</th>\n",
       "      <td>601ac115be37ce2ead437551</td>\n",
       "      <td>511111019862</td>\n",
       "      <td>Baking</td>\n",
       "      <td>BAKING</td>\n",
       "      <td>test brand @1612366101024</td>\n",
       "      <td>False</td>\n",
       "      <td>NaN</td>\n",
       "      <td>601ac114be37ce2ead437550</td>\n",
       "      <td>Cogs</td>\n",
       "    </tr>\n",
       "    <tr>\n",
       "      <th>1</th>\n",
       "      <td>601c5460be37ce2ead43755f</td>\n",
       "      <td>511111519928</td>\n",
       "      <td>Beverages</td>\n",
       "      <td>BEVERAGES</td>\n",
       "      <td>Starbucks</td>\n",
       "      <td>False</td>\n",
       "      <td>STARBUCKS</td>\n",
       "      <td>5332f5fbe4b03c9a25efd0ba</td>\n",
       "      <td>Cogs</td>\n",
       "    </tr>\n",
       "    <tr>\n",
       "      <th>2</th>\n",
       "      <td>601ac142be37ce2ead43755d</td>\n",
       "      <td>511111819905</td>\n",
       "      <td>Baking</td>\n",
       "      <td>BAKING</td>\n",
       "      <td>test brand @1612366146176</td>\n",
       "      <td>False</td>\n",
       "      <td>TEST BRANDCODE @1612366146176</td>\n",
       "      <td>601ac142be37ce2ead437559</td>\n",
       "      <td>Cogs</td>\n",
       "    </tr>\n",
       "    <tr>\n",
       "      <th>3</th>\n",
       "      <td>601ac142be37ce2ead43755a</td>\n",
       "      <td>511111519874</td>\n",
       "      <td>Baking</td>\n",
       "      <td>BAKING</td>\n",
       "      <td>test brand @1612366146051</td>\n",
       "      <td>False</td>\n",
       "      <td>TEST BRANDCODE @1612366146051</td>\n",
       "      <td>601ac142be37ce2ead437559</td>\n",
       "      <td>Cogs</td>\n",
       "    </tr>\n",
       "    <tr>\n",
       "      <th>4</th>\n",
       "      <td>601ac142be37ce2ead43755e</td>\n",
       "      <td>511111319917</td>\n",
       "      <td>Candy &amp; Sweets</td>\n",
       "      <td>CANDY_AND_SWEETS</td>\n",
       "      <td>test brand @1612366146827</td>\n",
       "      <td>False</td>\n",
       "      <td>TEST BRANDCODE @1612366146827</td>\n",
       "      <td>5332fa12e4b03c9a25efd1e7</td>\n",
       "      <td>Cogs</td>\n",
       "    </tr>\n",
       "    <tr>\n",
       "      <th>5</th>\n",
       "      <td>601ac142be37ce2ead43755b</td>\n",
       "      <td>511111719885</td>\n",
       "      <td>Baking</td>\n",
       "      <td>BAKING</td>\n",
       "      <td>test brand @1612366146091</td>\n",
       "      <td>False</td>\n",
       "      <td>TEST BRANDCODE @1612366146091</td>\n",
       "      <td>601ac142be37ce2ead437559</td>\n",
       "      <td>Cogs</td>\n",
       "    </tr>\n",
       "    <tr>\n",
       "      <th>6</th>\n",
       "      <td>601ac142be37ce2ead43755c</td>\n",
       "      <td>511111219897</td>\n",
       "      <td>Baking</td>\n",
       "      <td>BAKING</td>\n",
       "      <td>test brand @1612366146133</td>\n",
       "      <td>False</td>\n",
       "      <td>TEST BRANDCODE @1612366146133</td>\n",
       "      <td>601ac142be37ce2ead437559</td>\n",
       "      <td>Cogs</td>\n",
       "    </tr>\n",
       "    <tr>\n",
       "      <th>7</th>\n",
       "      <td>5cdad0f5166eb33eb7ce0faa</td>\n",
       "      <td>511111104810</td>\n",
       "      <td>Condiments &amp; Sauces</td>\n",
       "      <td>NaN</td>\n",
       "      <td>J.L. Kraft</td>\n",
       "      <td>True</td>\n",
       "      <td>J.L. KRAFT</td>\n",
       "      <td>559c2234e4b06aca36af13c6</td>\n",
       "      <td>Cogs</td>\n",
       "    </tr>\n",
       "    <tr>\n",
       "      <th>8</th>\n",
       "      <td>5ab15636e4b0be0a89bb0b07</td>\n",
       "      <td>511111504412</td>\n",
       "      <td>Canned Goods &amp; Soups</td>\n",
       "      <td>NaN</td>\n",
       "      <td>Campbell's Home Style</td>\n",
       "      <td>False</td>\n",
       "      <td>CAMPBELLS HOME STYLE</td>\n",
       "      <td>5a734034e4b0d58f376be874</td>\n",
       "      <td>Cogs</td>\n",
       "    </tr>\n",
       "    <tr>\n",
       "      <th>9</th>\n",
       "      <td>5c408e8bcd244a1fdb47aee7</td>\n",
       "      <td>511111504788</td>\n",
       "      <td>Baking</td>\n",
       "      <td>NaN</td>\n",
       "      <td>test</td>\n",
       "      <td>True</td>\n",
       "      <td>TEST</td>\n",
       "      <td>59ba6f1ce4b092b29c167346</td>\n",
       "      <td>Cogs</td>\n",
       "    </tr>\n",
       "  </tbody>\n",
       "</table>\n",
       "</div>"
      ],
      "text/plain": [
       "                        _id       barcode              category  \\\n",
       "0  601ac115be37ce2ead437551  511111019862                Baking   \n",
       "1  601c5460be37ce2ead43755f  511111519928             Beverages   \n",
       "2  601ac142be37ce2ead43755d  511111819905                Baking   \n",
       "3  601ac142be37ce2ead43755a  511111519874                Baking   \n",
       "4  601ac142be37ce2ead43755e  511111319917        Candy & Sweets   \n",
       "5  601ac142be37ce2ead43755b  511111719885                Baking   \n",
       "6  601ac142be37ce2ead43755c  511111219897                Baking   \n",
       "7  5cdad0f5166eb33eb7ce0faa  511111104810   Condiments & Sauces   \n",
       "8  5ab15636e4b0be0a89bb0b07  511111504412  Canned Goods & Soups   \n",
       "9  5c408e8bcd244a1fdb47aee7  511111504788                Baking   \n",
       "\n",
       "       categoryCode                       name  topBrand  \\\n",
       "0            BAKING  test brand @1612366101024     False   \n",
       "1         BEVERAGES                  Starbucks     False   \n",
       "2            BAKING  test brand @1612366146176     False   \n",
       "3            BAKING  test brand @1612366146051     False   \n",
       "4  CANDY_AND_SWEETS  test brand @1612366146827     False   \n",
       "5            BAKING  test brand @1612366146091     False   \n",
       "6            BAKING  test brand @1612366146133     False   \n",
       "7               NaN                 J.L. Kraft      True   \n",
       "8               NaN      Campbell's Home Style     False   \n",
       "9               NaN                       test      True   \n",
       "\n",
       "                       brandCode                    cpg_id cpg_ref  \n",
       "0                            NaN  601ac114be37ce2ead437550    Cogs  \n",
       "1                      STARBUCKS  5332f5fbe4b03c9a25efd0ba    Cogs  \n",
       "2  TEST BRANDCODE @1612366146176  601ac142be37ce2ead437559    Cogs  \n",
       "3  TEST BRANDCODE @1612366146051  601ac142be37ce2ead437559    Cogs  \n",
       "4  TEST BRANDCODE @1612366146827  5332fa12e4b03c9a25efd1e7    Cogs  \n",
       "5  TEST BRANDCODE @1612366146091  601ac142be37ce2ead437559    Cogs  \n",
       "6  TEST BRANDCODE @1612366146133  601ac142be37ce2ead437559    Cogs  \n",
       "7                     J.L. KRAFT  559c2234e4b06aca36af13c6    Cogs  \n",
       "8           CAMPBELLS HOME STYLE  5a734034e4b0d58f376be874    Cogs  \n",
       "9                           TEST  59ba6f1ce4b092b29c167346    Cogs  "
      ]
     },
     "execution_count": 32,
     "metadata": {},
     "output_type": "execute_result"
    }
   ],
   "source": [
    "# import  brands data from json file \n",
    "brands = pd.read_json('data/brands.json', lines=True, dtype={'topBrand': bool})\n",
    "\n",
    "# extract values from the _id column\n",
    "brands['_id'] = brands['_id'].apply(lambda x: x['$oid'])\n",
    "\n",
    "# extract values from the cpg column and store them into a new column called cpg_id and cpg_ref\n",
    "brands['cpg_id'] = brands['cpg'].apply(lambda x: x['$id']['$oid'])\n",
    "brands['cpg_ref'] = brands['cpg'].apply(lambda x: x['$ref'])\n",
    "\n",
    "# drop the cpg column\n",
    "brands = brands.drop(columns=['cpg'])\n",
    "\n",
    "\n",
    "# find out rows that have duplicated values\n",
    "brands[brands['barcode'].duplicated(keep=False)]\n",
    "\n",
    "# save the dataframe into a csv file \n",
    "brands.to_csv('data/brands_updated.csv', index=True)\n",
    "brands.head(10)"
   ]
  },
  {
   "attachments": {},
   "cell_type": "markdown",
   "metadata": {},
   "source": [
    "## Load users data"
   ]
  },
  {
   "cell_type": "code",
   "execution_count": 33,
   "metadata": {},
   "outputs": [
    {
     "data": {
      "text/html": [
       "<div>\n",
       "<style scoped>\n",
       "    .dataframe tbody tr th:only-of-type {\n",
       "        vertical-align: middle;\n",
       "    }\n",
       "\n",
       "    .dataframe tbody tr th {\n",
       "        vertical-align: top;\n",
       "    }\n",
       "\n",
       "    .dataframe thead th {\n",
       "        text-align: right;\n",
       "    }\n",
       "</style>\n",
       "<table border=\"1\" class=\"dataframe\">\n",
       "  <thead>\n",
       "    <tr style=\"text-align: right;\">\n",
       "      <th></th>\n",
       "      <th>_id</th>\n",
       "      <th>active</th>\n",
       "      <th>createdDate</th>\n",
       "      <th>lastLogin</th>\n",
       "      <th>role</th>\n",
       "      <th>signUpSource</th>\n",
       "      <th>state</th>\n",
       "    </tr>\n",
       "  </thead>\n",
       "  <tbody>\n",
       "    <tr>\n",
       "      <th>0</th>\n",
       "      <td>5ff1e194b6a9d73a3a9f1052</td>\n",
       "      <td>True</td>\n",
       "      <td>2021-01-03 15:24:04</td>\n",
       "      <td>2021-01-03 15:25:37</td>\n",
       "      <td>consumer</td>\n",
       "      <td>Email</td>\n",
       "      <td>WI</td>\n",
       "    </tr>\n",
       "    <tr>\n",
       "      <th>1</th>\n",
       "      <td>5ff1e194b6a9d73a3a9f1052</td>\n",
       "      <td>True</td>\n",
       "      <td>2021-01-03 15:24:04</td>\n",
       "      <td>2021-01-03 15:25:37</td>\n",
       "      <td>consumer</td>\n",
       "      <td>Email</td>\n",
       "      <td>WI</td>\n",
       "    </tr>\n",
       "    <tr>\n",
       "      <th>2</th>\n",
       "      <td>5ff1e194b6a9d73a3a9f1052</td>\n",
       "      <td>True</td>\n",
       "      <td>2021-01-03 15:24:04</td>\n",
       "      <td>2021-01-03 15:25:37</td>\n",
       "      <td>consumer</td>\n",
       "      <td>Email</td>\n",
       "      <td>WI</td>\n",
       "    </tr>\n",
       "    <tr>\n",
       "      <th>3</th>\n",
       "      <td>5ff1e1eacfcf6c399c274ae6</td>\n",
       "      <td>True</td>\n",
       "      <td>2021-01-03 15:25:30</td>\n",
       "      <td>2021-01-03 15:25:30</td>\n",
       "      <td>consumer</td>\n",
       "      <td>Email</td>\n",
       "      <td>WI</td>\n",
       "    </tr>\n",
       "    <tr>\n",
       "      <th>4</th>\n",
       "      <td>5ff1e194b6a9d73a3a9f1052</td>\n",
       "      <td>True</td>\n",
       "      <td>2021-01-03 15:24:04</td>\n",
       "      <td>2021-01-03 15:25:37</td>\n",
       "      <td>consumer</td>\n",
       "      <td>Email</td>\n",
       "      <td>WI</td>\n",
       "    </tr>\n",
       "    <tr>\n",
       "      <th>5</th>\n",
       "      <td>5ff1e194b6a9d73a3a9f1052</td>\n",
       "      <td>True</td>\n",
       "      <td>2021-01-03 15:24:04</td>\n",
       "      <td>2021-01-03 15:25:37</td>\n",
       "      <td>consumer</td>\n",
       "      <td>Email</td>\n",
       "      <td>WI</td>\n",
       "    </tr>\n",
       "    <tr>\n",
       "      <th>6</th>\n",
       "      <td>5ff1e1e8cfcf6c399c274ad9</td>\n",
       "      <td>True</td>\n",
       "      <td>2021-01-03 15:25:28</td>\n",
       "      <td>2021-01-03 15:25:28</td>\n",
       "      <td>consumer</td>\n",
       "      <td>Email</td>\n",
       "      <td>WI</td>\n",
       "    </tr>\n",
       "    <tr>\n",
       "      <th>7</th>\n",
       "      <td>5ff1e1b7cfcf6c399c274a5a</td>\n",
       "      <td>True</td>\n",
       "      <td>2021-01-03 15:24:39</td>\n",
       "      <td>2021-01-03 15:24:39</td>\n",
       "      <td>consumer</td>\n",
       "      <td>Email</td>\n",
       "      <td>WI</td>\n",
       "    </tr>\n",
       "    <tr>\n",
       "      <th>8</th>\n",
       "      <td>5ff1e194b6a9d73a3a9f1052</td>\n",
       "      <td>True</td>\n",
       "      <td>2021-01-03 15:24:04</td>\n",
       "      <td>2021-01-03 15:25:37</td>\n",
       "      <td>consumer</td>\n",
       "      <td>Email</td>\n",
       "      <td>WI</td>\n",
       "    </tr>\n",
       "    <tr>\n",
       "      <th>9</th>\n",
       "      <td>5ff1e1f1cfcf6c399c274b0b</td>\n",
       "      <td>True</td>\n",
       "      <td>2021-01-03 15:25:37</td>\n",
       "      <td>2021-01-03 15:25:37</td>\n",
       "      <td>consumer</td>\n",
       "      <td>Email</td>\n",
       "      <td>WI</td>\n",
       "    </tr>\n",
       "  </tbody>\n",
       "</table>\n",
       "</div>"
      ],
      "text/plain": [
       "                        _id  active          createdDate            lastLogin  \\\n",
       "0  5ff1e194b6a9d73a3a9f1052    True  2021-01-03 15:24:04  2021-01-03 15:25:37   \n",
       "1  5ff1e194b6a9d73a3a9f1052    True  2021-01-03 15:24:04  2021-01-03 15:25:37   \n",
       "2  5ff1e194b6a9d73a3a9f1052    True  2021-01-03 15:24:04  2021-01-03 15:25:37   \n",
       "3  5ff1e1eacfcf6c399c274ae6    True  2021-01-03 15:25:30  2021-01-03 15:25:30   \n",
       "4  5ff1e194b6a9d73a3a9f1052    True  2021-01-03 15:24:04  2021-01-03 15:25:37   \n",
       "5  5ff1e194b6a9d73a3a9f1052    True  2021-01-03 15:24:04  2021-01-03 15:25:37   \n",
       "6  5ff1e1e8cfcf6c399c274ad9    True  2021-01-03 15:25:28  2021-01-03 15:25:28   \n",
       "7  5ff1e1b7cfcf6c399c274a5a    True  2021-01-03 15:24:39  2021-01-03 15:24:39   \n",
       "8  5ff1e194b6a9d73a3a9f1052    True  2021-01-03 15:24:04  2021-01-03 15:25:37   \n",
       "9  5ff1e1f1cfcf6c399c274b0b    True  2021-01-03 15:25:37  2021-01-03 15:25:37   \n",
       "\n",
       "       role signUpSource state  \n",
       "0  consumer        Email    WI  \n",
       "1  consumer        Email    WI  \n",
       "2  consumer        Email    WI  \n",
       "3  consumer        Email    WI  \n",
       "4  consumer        Email    WI  \n",
       "5  consumer        Email    WI  \n",
       "6  consumer        Email    WI  \n",
       "7  consumer        Email    WI  \n",
       "8  consumer        Email    WI  \n",
       "9  consumer        Email    WI  "
      ]
     },
     "execution_count": 33,
     "metadata": {},
     "output_type": "execute_result"
    }
   ],
   "source": [
    "# import  users data from json file\n",
    "users = pd.read_json('data/users.json', lines=True)\n",
    "\n",
    "# extract values from the _id column\n",
    "users['_id'] = users['_id'].apply(lambda x: x['$oid'])\n",
    "\n",
    "# use the above function to extract values from all the date columns\n",
    "users['createdDate'] = handle_dateFormat(users['createdDate'])\n",
    "users['lastLogin'] = handle_dateFormat(users['lastLogin'])\n",
    "\n",
    "# save the updated information into a csv file\n",
    "users.to_csv('data/users_updated.csv', index=True)\n",
    "users.head(10)"
   ]
  },
  {
   "attachments": {},
   "cell_type": "markdown",
   "metadata": {},
   "source": [
    "# Connect to a SQL server and answer questions"
   ]
  },
  {
   "cell_type": "code",
   "execution_count": 34,
   "metadata": {},
   "outputs": [],
   "source": [
    "# connect to a MYSQL database\n",
    "import mysql.connector\n",
    "\n",
    "mydb = mysql.connector.connect(\n",
    "  host=\"localhost\",\n",
    "  user=\"root\",\n",
    "  password=\"fetchdata\"\n",
    ")\n",
    "\n",
    "mycursor = mydb.cursor()\n",
    "\n",
    "#mycursor.execute(\"set global local_infile = 1;\")\n",
    "mycursor.execute(\"DROP DATABASE IF EXISTS fetch_dataChallenge\")\n",
    "mycursor.execute(\"CREATE DATABASE fetch_dataChallenge\")\n",
    " "
   ]
  },
  {
   "attachments": {},
   "cell_type": "markdown",
   "metadata": {},
   "source": [
    "### Import the cleande csv file into Mysql database"
   ]
  },
  {
   "cell_type": "code",
   "execution_count": 35,
   "metadata": {},
   "outputs": [
    {
     "name": "stdout",
     "output_type": "stream",
     "text": [
      "('5332f5ebe4b03c9a25efd0a7', '511111304050', None, None, '5332f5ebe4b03c9a25efd0a8', 'Cpgs', 'Monster', 'True')\n",
      "('5332f5f2e4b03c9a25efd0a9', '511111804048', None, None, '5332f5f2e4b03c9a25efd0aa', 'Cpgs', 'Eggo', 'True')\n",
      "('5332f5f2e4b03c9a25efd0ab', '511111604037', None, None, '5332f5f3e4b03c9a25efd0ac', 'Cpgs', 'Our Family', 'True')\n",
      "('5332f5f3e4b03c9a25efd0ad', '511111104025', None, None, '5332f5f3e4b03c9a25efd0ae', 'Cpgs', 'Gree Giant', 'True')\n",
      "('5332f5f4e4b03c9a25efd0af', '511111904014', None, None, '5332f5f2e4b03c9a25efd0aa', 'Cpgs', 'Frosted Mini-Wheats', 'True')\n",
      "('5332f5f5e4b03c9a25efd0b0', '511111404002', None, None, '5332f5f3e4b03c9a25efd0ae', 'Cpgs', 'Betty Crocker', 'True')\n",
      "('5332f5f5e4b03c9a25efd0b1', '511111203995', None, None, '5332f5ebe4b03c9a25efd0a8', 'Cpgs', 'Minute Maid', 'True')\n",
      "('5332f5f6e4b03c9a25efd0b2', '511111703983', None, None, '5332f5ebe4b03c9a25efd0a8', 'Cpgs', 'Coca-Cola', 'True')\n",
      "('5332f5fbe4b03c9a25efd0b9', '511111503972', 'Beverages', None, '5332f5fbe4b03c9a25efd0ba', 'Cpgs', 'Pepsi', 'False')\n",
      "('5332f5fbe4b03c9a25efd0bb', '511111003960', 'Beverages', None, '5332f5fbe4b03c9a25efd0ba', 'Cogs', 'Mountain Dew', 'False')\n"
     ]
    }
   ],
   "source": [
    "# create updated brands tables in the database \n",
    "mycursor.execute(\"USE fetch_dataChallenge\")\n",
    "mycursor.execute(\"DROP TABLE IF EXISTS brands_updated\")\n",
    "mycursor.execute(\"CREATE TABLE brands_updated (id VARCHAR(255), barcode VARCHAR(255), category VARCHAR(255), categoryCode VARCHAR(255), cpg_id VARCHAR(255), cpg_ref VARCHAR(255), name VARCHAR(255), topBrand VARCHAR(255), \\\n",
    "                 PRIMARY KEY (id))\")\n",
    "\n",
    "# change the data type of the columns to string type\n",
    "brands['_id'] = brands['_id'].astype(str)  #int(brands['_id'])\n",
    "brands['barcode'] = brands['barcode'].astype(str) \n",
    "brands['topBrand'] = brands['topBrand'].astype(str)\n",
    "\n",
    "# Insert row by row to Table with its corresponding columns from the receipts_updated dataframe\n",
    "for i in range(len(brands)):\n",
    "    sql = \"INSERT INTO brands_updated (id, barcode, category, categoryCode, cpg_id, cpg_ref, name, topBrand) VALUES (%s, %s, %s, %s, %s, %s, %s, %s)\"\n",
    "    val = (brands['_id'].iloc[i], brands['barcode'].iloc[i], brands['category'].iloc[i], brands['categoryCode'].iloc[i], brands['cpg_id'].iloc[i], brands['cpg_ref'].iloc[i], brands['name'].iloc[i], brands['topBrand'].iloc[i])\n",
    "    mycursor.execute(sql, val)\n",
    "    mydb.commit()\n",
    "\n",
    "\n",
    "# print the first 10 rows of the brands table\n",
    "mycursor.execute(\"SELECT * FROM brands_updated LIMIT 10\")\n",
    "myresult = mycursor.fetchall()\n",
    "\n",
    "for x in myresult:\n",
    "  print(x)"
   ]
  },
  {
   "cell_type": "code",
   "execution_count": 36,
   "metadata": {},
   "outputs": [
    {
     "name": "stdout",
     "output_type": "stream",
     "text": [
      "('5ff1e194b6a9d73a3a9f1052', '1', '2021-01-03 15:24:04', '2021-01-03 15:25:37', 'consumer', 'Email', 'WI')\n",
      "('5ff1e194b6a9d73a3a9f1052', '1', '2021-01-03 15:24:04', '2021-01-03 15:25:37', 'consumer', 'Email', 'WI')\n",
      "('5ff1e194b6a9d73a3a9f1052', '1', '2021-01-03 15:24:04', '2021-01-03 15:25:37', 'consumer', 'Email', 'WI')\n",
      "('5ff1e1eacfcf6c399c274ae6', '1', '2021-01-03 15:25:30', '2021-01-03 15:25:30', 'consumer', 'Email', 'WI')\n",
      "('5ff1e194b6a9d73a3a9f1052', '1', '2021-01-03 15:24:04', '2021-01-03 15:25:37', 'consumer', 'Email', 'WI')\n",
      "('5ff1e194b6a9d73a3a9f1052', '1', '2021-01-03 15:24:04', '2021-01-03 15:25:37', 'consumer', 'Email', 'WI')\n",
      "('5ff1e1e8cfcf6c399c274ad9', '1', '2021-01-03 15:25:28', '2021-01-03 15:25:28', 'consumer', 'Email', 'WI')\n",
      "('5ff1e1b7cfcf6c399c274a5a', '1', '2021-01-03 15:24:39', '2021-01-03 15:24:39', 'consumer', 'Email', 'WI')\n",
      "('5ff1e194b6a9d73a3a9f1052', '1', '2021-01-03 15:24:04', '2021-01-03 15:25:37', 'consumer', 'Email', 'WI')\n",
      "('5ff1e1f1cfcf6c399c274b0b', '1', '2021-01-03 15:25:37', '2021-01-03 15:25:37', 'consumer', 'Email', 'WI')\n"
     ]
    }
   ],
   "source": [
    "# Create users table in the database\n",
    "mycursor.execute(\"USE fetch_dataChallenge\")\n",
    "mycursor.execute(\"DROP TABLE IF EXISTS users_updated\")\n",
    "mycursor.execute(\"CREATE TABLE users_updated (id VARCHAR(255), active VARCHAR(255), created_date VARCHAR(255), last_login VARCHAR(255), role VARCHAR(255), signup_source VARCHAR(255), state VARCHAR(255))\")\n",
    "\n",
    "users_updated = pd.read_csv('data/users_updated.csv').drop(columns=['Unnamed: 0'])\n",
    "\n",
    "# use this for loop to insert row by row to Table \n",
    "for index, row in users_updated.iterrows():\n",
    "    mycursor.execute(\"INSERT INTO fetch_dataChallenge.users_updated (id, active, created_date, last_login, role, signup_source, state)  VALUES (%s, %s, %s, %s, %s, %s, %s) \", tuple(row) )\n",
    "mydb.commit()\n",
    "\n",
    "# print the first 10 rows of the users table\n",
    "mycursor.execute(\"SELECT * FROM users_updated LIMIT 10\")\n",
    "myresult = mycursor.fetchall()\n",
    "\n",
    "for x in myresult:\n",
    "    print(x)\n"
   ]
  },
  {
   "cell_type": "code",
   "execution_count": 37,
   "metadata": {},
   "outputs": [
    {
     "name": "stdout",
     "output_type": "stream",
     "text": [
      "('5f9c74f70a7214ad07000037', 750.0, 'Receipt number 1 completed, bonus point schedule DEFAULT (5cefdcacf3693e0b50e83a36)', '2020-10-30 20:17:59', '2020-10-30 20:17:59', None, '2021-01-03 15:24:54', '2020-10-30 20:18:00', 750.0, '2020-10-29 20:17:59', 11.0, 'REJECTED', 1.0, '5f9c74f7c88c1415cbddb839')\n",
      "('5f9c74f90a7214ad07000038', 300.0, 'Receipt number 4 completed, bonus point schedule DEFAULT (5cefdcacf3693e0b50e83a36)', '2020-10-30 20:18:01', '2020-10-30 20:18:01', '2021-01-03 15:39:55', '2021-01-03 15:39:55', '2021-01-03 15:39:55', 389.2, '2020-10-29 20:18:01', 6.0, 'FINISHED', 14.0, '5f9c74e3f1937815bd2c1d73')\n",
      "('5fa5ad370a720f05ef000089', 750.0, 'Receipt number 1 completed, bonus point schedule DEFAULT (5cefdcacf3693e0b50e83a36)', '2020-11-06 20:08:23', '2020-11-06 20:08:23', '2021-01-05 20:53:40', '2021-01-05 20:53:40', '2021-01-05 20:53:40', 9449.8, '2020-11-05 20:08:23', 11.0, 'FINISHED', 291.0, '5fa5ad376a26f611e71ab5ef')\n",
      "('5fa5b0ca0a720f05ef0000bf', 100.0, 'Receipt number 6 completed, bonus point schedule DEFAULT (5cefdcacf3693e0b50e83a36)', '2020-11-05 20:23:38', '2020-11-05 20:23:38', '2021-01-08 21:44:00', '2021-01-08 21:44:00', '2021-01-08 21:44:00', 189.2, '2020-11-04 20:23:38', 6.0, 'FINISHED', 14.0, '5fa5b0b720dc5111dd86dcc1')\n",
      "('5fa8d5730a7214adc30001c3', 750.0, 'Receipt number 1 completed, bonus point schedule DEFAULT (5cefdcacf3693e0b50e83a36)', '2020-11-09 05:36:51', '2020-11-09 05:36:51', None, '2021-01-27 01:13:20', '2020-11-09 05:36:52', 750.0, '2020-11-08 05:36:51', 11.0, 'REJECTED', 1.0, '5fa8d573770b516dda4f4d21')\n",
      "('5fa8d5790a7214adc30001c4', 5.0, 'All-receipts receipt bonus', '2020-11-09 05:36:57', '2020-11-09 05:36:57', '2021-01-27 01:28:21', '2021-01-27 01:28:21', '2021-01-27 01:28:21', 94.6, '2020-11-08 05:36:57', 6.0, 'FINISHED', 14.0, '5fa8d542b055fd1dfdf09517')\n",
      "('5fb1bd510a7214ad890000e3', 750.0, 'Receipt number 1 completed, bonus point schedule DEFAULT (5cefdcacf3693e0b50e83a36)', '2020-11-15 23:44:17', '2020-11-15 23:44:17', None, '2021-02-02 00:28:24', '2020-11-15 23:44:17', 750.0, '2020-11-14 23:44:17', 11.0, 'REJECTED', 1.0, '5fb1bd519c09d811e5211cef')\n",
      "('5fb2da580a7214ad89000114', 750.0, 'Receipt number 1 completed, bonus point schedule DEFAULT (5cefdcacf3693e0b50e83a36)', '2020-11-16 20:00:24', '2020-11-16 20:00:24', None, '2021-02-02 00:28:24', '2020-11-16 20:00:24', 750.0, '2020-11-15 20:00:24', 11.0, 'REJECTED', 1.0, '5fb2da582357ec11d4ecc403')\n",
      "('5ff1e1960a720f0523000567', 750.0, 'Receipt number 1 completed, bonus point schedule DEFAULT (5cefdcacf3693e0b50e83a36)', '2021-01-03 15:24:06', '2021-01-03 15:24:06', '2021-01-03 15:24:10', '2021-01-03 15:24:10', '2021-01-03 15:24:10', 750.0, '2021-01-02 15:24:06', 1.0, 'FINISHED', 1.0, '5ff1e196cfcf6c399c274a38')\n",
      "('5ff1e1a10a720f0523000568', 750.0, 'Receipt number 1 completed, bonus point schedule DEFAULT (5cefdcacf3693e0b50e83a36)', '2021-01-03 15:24:17', '2021-01-03 15:24:17', '2021-01-03 15:39:20', '2021-01-03 15:39:20', '2021-01-03 15:24:19', 750.0, '2021-01-02 00:00:00', 5.0, 'FINISHED', 50.0, '5ff1e194b6a9d73a3a9f1052')\n"
     ]
    }
   ],
   "source": [
    "# create updated receipts tables in the database \n",
    "mycursor.execute(\"USE fetch_dataChallenge\")\n",
    "mycursor.execute(\"DROP TABLE IF EXISTS receipts_updated\")\n",
    "mycursor.execute(\"CREATE TABLE receipts_updated (id VARCHAR(255), bonusPointsEarned FLOAT, bonusPointsEarnedReason VARCHAR(255), create_date VARCHAR(255), date_scanned VARCHAR(255), finished_date VARCHAR(255), modify_date VARCHAR(255), points_awarded_date VARCHAR(255), points_earned FLOAT, purchase_date VARCHAR(255), purchased_item_count FLOAT, rewards_receipt_status VARCHAR(255), total_spent FLOAT, user_id VARCHAR(255), \\\n",
    "                 PRIMARY KEY (id))\")#, FOREIGN KEY (user_id) REFERENCES users_updated(id))\n",
    "\n",
    "receipts_updated = receipts  #####pd.read_csv('receipts_updated.csv')\n",
    "\n",
    "# use this for loop to insert row by row to Table with its corresponding columns from the receipts_updated dataframe\n",
    "for index, row in receipts_updated.iterrows():\n",
    "    mycursor.execute(\"INSERT INTO fetch_dataChallenge.receipts_updated (id, bonusPointsEarned, bonusPointsEarnedReason, create_date, date_scanned, finished_date, modify_date, points_awarded_date, points_earned, purchase_date, purchased_item_count, rewards_receipt_status, total_spent, user_id)  VALUES (%s, %s, %s, %s, %s, %s, %s, %s, %s,%s,%s,%s,%s,%s) \", tuple(row) )\n",
    "mydb.commit()\n",
    "\n",
    "\n",
    "# print the first 10 rows of the receipts table\n",
    "mycursor.execute(\"SELECT * FROM receipts_updated LIMIT 10\")\n",
    "myresult = mycursor.fetchall()\n",
    "\n",
    "for x in myresult:\n",
    "  print(x)"
   ]
  },
  {
   "cell_type": "code",
   "execution_count": 38,
   "metadata": {},
   "outputs": [
    {
     "name": "stdout",
     "output_type": "stream",
     "text": [
      "('5ff1e1eb0a720f0523000575', '4011', 'ITEM NOT FOUND', '26.0', '26.0', '0', '1', '1', '5.0', '4011.0', '1', '26.0', '5.0', None, None, None, None, None, None, None, None, None, None, None, None, None, None, None, None, None, None, None, None, None, None, None, None, None, None, None, None, None)\n",
      "('5ff1e1bb0a720f052300056b', '4011', 'ITEM NOT FOUND', '1.0', '1.0', None, '1', None, '1.0', None, None, None, None, None, None, None, None, None, None, None, None, None, None, None, None, None, None, None, None, None, None, None, None, None, None, None, None, None, None, None, None, None)\n",
      "('5ff1e1bb0a720f052300056b', '28400642255', 'DORITOS TORTILLA CHIP SPICY SWEET CHILI REDUCED FAT BAG 1 OZ', '10.0', '10.0', '1', '2', '1', '1.0', '28400642255.0', '1', '10.0', '1.0', 'USER_FLAGGED', 'Action not allowed for user and CPG', '5332f5fbe4b03c9a25efd0ba', 'DORITOS SPICY SWEET CHILI SINGLE SERVE', '5332f5fbe4b03c9a25efd0ba', 'DORITOS TORTILLA CHIP SPICY SWEET CHILI REDUCED FAT BAG 1 OZ', None, None, None, None, None, None, None, None, None, None, None, None, None, None, None, None, None, None, None, None, None, None, None)\n",
      "('5ff1e1ee0a7214ada100056f', '4011', 'ITEM NOT FOUND', '28.0', '28.0', '0', '1', '1', '4.0', '4011.0', '1', '28.0', '4.0', None, None, None, None, None, None, None, None, None, None, None, None, None, None, None, None, None, None, None, None, None, None, None, None, None, None, None, None, None)\n",
      "('5ff1e1d20a7214ada1000561', '4011', 'ITEM NOT FOUND', '1.0', '1.0', None, '1', None, '1.0', None, None, None, None, None, None, None, None, None, None, None, None, None, None, None, None, None, None, None, None, None, None, None, None, None, None, None, None, None, None, None, None, None)\n",
      "('5ff1e1d20a7214ada1000561', '1234', None, '2.56', '2.56', '1', '2', '1', '3.0', '1234.0', '1', '2.56', '3.0', 'USER_FLAGGED', None, None, None, None, None, None, None, None, None, None, None, None, None, None, None, None, None, None, None, None, None, None, None, None, None, None, None, None)\n",
      "('5ff1e1e40a7214ada1000566', '4011', 'ITEM NOT FOUND', '3.25', '3.25', '0', '1', '1', '1.0', '4011.0', None, None, None, None, 'Action not allowed for user and CPG', '5332f5fbe4b03c9a25efd0ba', 'DORITOS SPICY SWEET CHILI SINGLE SERVE', '5332f5fbe4b03c9a25efd0ba', None, '28400642255.0', 'DORITOS TORTILLA CHIP SPICY SWEET CHILI REDUCED FAT BAG 1 OZ', None, None, None, None, None, None, None, None, None, None, None, None, None, None, None, None, None, None, None, None, None)\n",
      "('5ff1e1cd0a720f052300056f', 'nan', 'MSSN TORTLLA', '2.23', '2.23', None, '1009', None, '1.0', None, None, None, None, None, None, None, None, None, None, None, None, 'MISSION', 'TACO BELL TACO SHELLS', '2.23', 'MSSN TORTLLA', None, None, None, None, None, None, None, None, None, None, None, None, None, None, None, None, None)\n",
      "('5ff1e1a40a720f0523000569', '46000832517', 'Old El Paso Mild Chopped Green Chiles, 4.5 Oz', '10.0', '10.0', None, '0', None, '1.0', None, None, None, None, None, 'Action not allowed for user and CPG', '5332f5f3e4b03c9a25efd0ae', 'OLD EL PASO BEANS & PEPPERS', '5332f5f3e4b03c9a25efd0ae', None, None, None, 'BRAND', None, None, None, None, None, None, None, None, None, None, None, None, None, None, None, None, None, None, None, None)\n",
      "('5ff1e1ed0a7214ada100056e', '4011', 'ITEM NOT FOUND', '20.0', '20.0', '0', '1', '1', '5.0', '4011.0', '1', '20.0', '5.0', None, None, None, None, None, None, None, None, None, None, None, None, None, None, None, None, None, None, None, None, None, None, None, None, None, None, None, None, None)\n"
     ]
    }
   ],
   "source": [
    "table_name = 'receipts_rewardList'\n",
    "database_name = 'fetch_dataChallenge'\n",
    "mycursor.execute(\"USE fetch_dataChallenge\")\n",
    "mycursor.execute(\"DROP TABLE IF EXISTS receipts_rewardList\")\n",
    "# create the table that has the same columns name as the receipts_rewardList dataframe\n",
    "mycursor.execute(f\"CREATE TABLE {database_name}.{table_name} ({', '.join([f'{col} VARCHAR(255)' for col in receipts_rewardList.columns])})\")\n",
    "\n",
    "receipts_rewardList = pd.read_csv('data/receipts_rewardList.csv')\n",
    "\n",
    "# read the barcode columns as string type and drop the fraction part\n",
    "receipts_rewardList['barcode'] = receipts_rewardList['barcode'].astype(str).str.split('.').str[0]\n",
    "\n",
    "# Create a cursor to execute SQL queries\n",
    "mycursor = mydb.cursor()\n",
    "\n",
    "# Iterate over each row in the DataFrame\n",
    "for index, row in receipts_rewardList.iterrows():\n",
    "    row = row.where(pd.notnull(row), None)  # Convert missing values to None\n",
    "\n",
    "    # Insert the row into the SQL table\n",
    "    query = f\"INSERT INTO {database_name}.{table_name} ({', '.join(receipts_rewardList.columns)}) VALUES ({', '.join(['%s'] * len(receipts_rewardList.columns))})\"\n",
    "    mycursor.execute(query, tuple(row))\n",
    "\n",
    "# Commit the changes and close the database connection\n",
    "mydb.commit()\n",
    "\n",
    "\n",
    "# print the first 10 rows of the brands table\n",
    "mycursor.execute(\"SELECT * FROM receipts_rewardList LIMIT 10\")\n",
    "myresult = mycursor.fetchall()\n",
    "\n",
    "for x in myresult:\n",
    "  print(x)"
   ]
  },
  {
   "cell_type": "code",
   "execution_count": 39,
   "metadata": {},
   "outputs": [
    {
     "name": "stdout",
     "output_type": "stream",
     "text": [
      "('601ac115be37ce2ead437551', '511111019862', 'Baking', 'BAKING', '601ac114be37ce2ead437550', 'Cogs', 'test brand @1612366101024', 'False')\n",
      "('601c5460be37ce2ead43755f', '511111519928', 'Beverages', 'BEVERAGES', '5332f5fbe4b03c9a25efd0ba', 'Cogs', 'Starbucks', 'False')\n",
      "('601ac142be37ce2ead43755d', '511111819905', 'Baking', 'BAKING', '601ac142be37ce2ead437559', 'Cogs', 'test brand @1612366146176', 'False')\n",
      "('601ac142be37ce2ead43755a', '511111519874', 'Baking', 'BAKING', '601ac142be37ce2ead437559', 'Cogs', 'test brand @1612366146051', 'False')\n",
      "('601ac142be37ce2ead43755e', '511111319917', 'Candy & Sweets', 'CANDY_AND_SWEETS', '5332fa12e4b03c9a25efd1e7', 'Cogs', 'test brand @1612366146827', 'False')\n",
      "('601ac142be37ce2ead43755b', '511111719885', 'Baking', 'BAKING', '601ac142be37ce2ead437559', 'Cogs', 'test brand @1612366146091', 'False')\n",
      "('601ac142be37ce2ead43755c', '511111219897', 'Baking', 'BAKING', '601ac142be37ce2ead437559', 'Cogs', 'test brand @1612366146133', 'False')\n",
      "('5cdad0f5166eb33eb7ce0faa', '511111104810', 'Condiments & Sauces', None, '559c2234e4b06aca36af13c6', 'Cogs', 'J.L. Kraft', 'True')\n",
      "('5ab15636e4b0be0a89bb0b07', '511111504412', 'Canned Goods & Soups', None, '5a734034e4b0d58f376be874', 'Cogs', \"Campbell's Home Style\", 'False')\n",
      "('5c408e8bcd244a1fdb47aee7', '511111504788', 'Baking', None, '59ba6f1ce4b092b29c167346', 'Cogs', 'test', 'True')\n"
     ]
    }
   ],
   "source": [
    "# create updated receipts tables in the database \n",
    "mycursor.execute(\"USE fetch_dataChallenge\")\n",
    "mycursor.execute(\"DROP TABLE IF EXISTS brands_updated\")\n",
    "mycursor.execute(\"CREATE TABLE brands_updated (id VARCHAR(255), barcode VARCHAR(255), category VARCHAR(255), categoryCode VARCHAR(255), cpg_id VARCHAR(255), cpg_ref VARCHAR(255), name VARCHAR(255), topBrand VARCHAR(10))\")\n",
    "\n",
    "# change the data type of the columns to string type\n",
    "brands['_id'] = brands['_id'].astype(str)  #int(brands['_id'])\n",
    "brands['barcode'] = brands['barcode'].astype(str) \n",
    "brands['topBrand'] = brands['topBrand'].astype(str)\n",
    "\n",
    "# Insert row by row to Table with its corresponding columns from the receipts_updated dataframe\n",
    "for i in range(len(brands)):\n",
    "    sql = \"INSERT INTO brands_updated (id, barcode, category, categoryCode, cpg_id, cpg_ref, name, topBrand) VALUES (%s, %s, %s, %s, %s, %s, %s, %s)\"\n",
    "    val = (brands['_id'].iloc[i], brands['barcode'].iloc[i], brands['category'].iloc[i], brands['categoryCode'].iloc[i], brands['cpg_id'].iloc[i], brands['cpg_ref'].iloc[i], brands['name'].iloc[i], brands['topBrand'].iloc[i])\n",
    "    mycursor.execute(sql, val)\n",
    "    mydb.commit()\n",
    "\n",
    "\n",
    "# print the first 10 rows of the brands table\n",
    "mycursor.execute(\"SELECT * FROM brands_updated LIMIT 10\")\n",
    "myresult = mycursor.fetchall()\n",
    "\n",
    "for x in myresult:\n",
    "  print(x)"
   ]
  },
  {
   "cell_type": "code",
   "execution_count": 40,
   "metadata": {},
   "outputs": [
    {
     "name": "stdout",
     "output_type": "stream",
     "text": [
      "('511111504788', 2)\n",
      "('511111305125', 2)\n",
      "('511111504139', 2)\n",
      "('511111204923', 2)\n",
      "('511111605058', 2)\n",
      "('511111004790', 2)\n",
      "('511111704140', 2)\n"
     ]
    }
   ],
   "source": [
    "# select the rows where barcode is not unique\n",
    "mycursor.execute(\"SELECT barcode, COUNT(*) FROM brands_updated GROUP BY barcode HAVING COUNT(*) > 1\")\n",
    "myresult = mycursor.fetchall()\n",
    "\n",
    "for x in myresult:\n",
    "  print(x)"
   ]
  },
  {
   "attachments": {},
   "cell_type": "markdown",
   "metadata": {},
   "source": [
    "### What are the top 5 brands by receipts scanned for most recent month?"
   ]
  },
  {
   "cell_type": "code",
   "execution_count": 41,
   "metadata": {},
   "outputs": [
    {
     "name": "stdout",
     "output_type": "stream",
     "text": [
      "('Tostitos', 23)\n",
      "('Swanson', 11)\n",
      "('Cracker Barrel Cheese', 10)\n",
      "('Prego', 7)\n",
      "('Diet Chris Cola', 7)\n"
     ]
    }
   ],
   "source": [
    "# find the most recent top 5 and save the resuls in a temporary table\n",
    "mycursor.execute(\"CREATE TEMPORARY TABLE recent_rank5 AS SELECT brands_updated.name, COUNT(*) \\\n",
    "                  FROM receipts_rewardList INNER JOIN brands_updated ON receipts_rewardList.barcode = brands_updated.barcode INNER JOIN receipts_updated ON receipts_updated.id = receipts_rewardList.receipt_id\\\n",
    "                  where SUBSTRING(receipts_updated.date_scanned, 1, 10) >= '2021-01-01' AND SUBSTRING(receipts_updated.date_scanned, 1, 10) <= '2021-02-01'\\\n",
    "                  GROUP BY brands_updated.name ORDER BY COUNT(*) DESC LIMIT 5 \")\n",
    "\n",
    "\n",
    "mycursor.execute(\"SELECT * FROM recent_rank5\")\n",
    "myresult = mycursor.fetchall()\n",
    "\n",
    "for x in myresult:\n",
    "  print(x)\n",
    "\n"
   ]
  },
  {
   "attachments": {},
   "cell_type": "markdown",
   "metadata": {},
   "source": [
    "### How does the ranking of the top 5 brands by receipts scanned for the recent month compare to the ranking for the previous month?"
   ]
  },
  {
   "cell_type": "code",
   "execution_count": 42,
   "metadata": {},
   "outputs": [
    {
     "name": "stdout",
     "output_type": "stream",
     "text": [
      "('Tostitos', 23)\n",
      "('Swanson', 11)\n",
      "('Cracker Barrel Cheese', 10)\n",
      "('Diet Chris Cola', 7)\n",
      "('Prego', 7)\n",
      "('Pepperidge Farm', 5)\n",
      "('V8', 4)\n",
      "('Kettle Brand', 3)\n",
      "('Quaker', 3)\n",
      "('Jell-O', 3)\n"
     ]
    }
   ],
   "source": [
    "# find out the rank of brand on the last 2 months with a rank coulumn\n",
    "\n",
    "mycursor.execute(\" SELECT brands_updated.name, COUNT(*) \\\n",
    "                    FROM receipts_rewardList INNER JOIN brands_updated ON receipts_rewardList.barcode = brands_updated.barcode INNER JOIN receipts_updated ON receipts_updated.id = receipts_rewardList.receipt_id\\\n",
    "                    where SUBSTRING(receipts_updated.date_scanned, 1, 10) >= '2021-01-01' AND SUBSTRING(receipts_updated.date_scanned, 1, 10) <= '2021-02-01'\\\n",
    "                    GROUP BY brands_updated.name ORDER BY COUNT(*) DESC LIMIT 10 \")\n",
    "\n",
    "\n",
    "\n",
    "#mycursor.execute(\"SELECT * FROM recent_rank5\")\n",
    "myresult = mycursor.fetchall()\n",
    "\n",
    "for x in myresult:\n",
    "  print(x)\n"
   ]
  },
  {
   "attachments": {},
   "cell_type": "markdown",
   "metadata": {},
   "source": [
    "**Those two answers are highly doubtful since the barcode from reciptes cannot match to the barcode from brands. More investigation have to be done**"
   ]
  },
  {
   "attachments": {},
   "cell_type": "markdown",
   "metadata": {},
   "source": [
    "#### When considering average spend from receipts with 'rewardsReceiptStatus’ of ‘Accepted’ or ‘Rejected’, which is greater?"
   ]
  },
  {
   "cell_type": "code",
   "execution_count": 43,
   "metadata": {},
   "outputs": [
    {
     "name": "stdout",
     "output_type": "stream",
     "text": [
      "(80.85430524938356,)\n"
     ]
    }
   ],
   "source": [
    "# calculate average spend from receipts with 'rewardsReceiptStatus’ of ‘Accepted’ \n",
    "mycursor.execute(\"SELECT AVG(total_spent) FROM receipts_updated WHERE rewards_receipt_status = 'FINISHED'\")\n",
    "myresult = mycursor.fetchall()\n",
    "\n",
    "\n",
    "for x in myresult:\n",
    "  print(x)\n"
   ]
  },
  {
   "cell_type": "code",
   "execution_count": 44,
   "metadata": {},
   "outputs": [
    {
     "name": "stdout",
     "output_type": "stream",
     "text": [
      "(23.326055781942017,)\n"
     ]
    }
   ],
   "source": [
    "# calculate average spend from receipts with 'rewardsReceiptStatus’ of ‘Rejected’\n",
    "mycursor.execute(\"SELECT AVG(total_spent) FROM receipts_updated WHERE rewards_receipt_status = 'REJECTED'\")\n",
    "myresult = mycursor.fetchall()\n",
    "\n",
    "\n",
    "for x in myresult:\n",
    "  print(x)\n"
   ]
  },
  {
   "attachments": {},
   "cell_type": "markdown",
   "metadata": {},
   "source": [
    "-  It's clear finished recipte has larger average spends(80.8 > 23.3)."
   ]
  },
  {
   "attachments": {},
   "cell_type": "markdown",
   "metadata": {},
   "source": [
    "#### When considering total number of items purchased from receipts with 'rewardsReceiptStatus’ of ‘Accepted’ or ‘Rejected’, which is greater?"
   ]
  },
  {
   "cell_type": "code",
   "execution_count": 45,
   "metadata": {},
   "outputs": [
    {
     "name": "stdout",
     "output_type": "stream",
     "text": [
      "(15.799227799227799,)\n"
     ]
    }
   ],
   "source": [
    "# calculate total number of items purchased from receipts with 'rewardsReceiptStatus’ of ‘Accepted’\n",
    "mycursor.execute(\"SELECT AVG(purchased_Item_Count) FROM receipts_updated WHERE rewards_receipt_status = 'FINISHED'\")\n",
    "myresult = mycursor.fetchall()\n",
    "\n",
    "\n",
    "for x in myresult:\n",
    "  print(x)\n"
   ]
  },
  {
   "cell_type": "code",
   "execution_count": 46,
   "metadata": {},
   "outputs": [
    {
     "name": "stdout",
     "output_type": "stream",
     "text": [
      "(2.436619718309859,)\n"
     ]
    }
   ],
   "source": [
    "# calculate total number of items purchased from receipts with 'rewardsReceiptStatus’ of ‘Rejected’\n",
    "mycursor.execute(\"SELECT AVG(purchased_Item_Count) FROM receipts_updated WHERE rewards_receipt_status = 'REJECTED'\")\n",
    "myresult = mycursor.fetchall()\n",
    "\n",
    "\n",
    "for x in myresult:\n",
    "  print(x)"
   ]
  },
  {
   "attachments": {},
   "cell_type": "markdown",
   "metadata": {},
   "source": [
    "-  It's clear finished recipte has larger average total number of items (15.8 > 2.4)."
   ]
  },
  {
   "attachments": {},
   "cell_type": "markdown",
   "metadata": {},
   "source": [
    "#### Which brand has the most spend among users who were created within the past 6 months?"
   ]
  },
  {
   "attachments": {},
   "cell_type": "markdown",
   "metadata": {},
   "source": [
    "- Create a table count number of transactions and totals spends for new users created within the past 6 months.\n"
   ]
  },
  {
   "cell_type": "code",
   "execution_count": 47,
   "metadata": {},
   "outputs": [
    {
     "name": "stdout",
     "output_type": "stream",
     "text": [
      "('Swanson', 14907.769775390625, 28)\n",
      "('V8', 9443.900390625, 2)\n",
      "('Jell-O', 4754.370193481445, 2)\n",
      "('Quaker', 32.41999816894531, 1)\n",
      "('Pepperidge Farm', 14165.8505859375, 3)\n",
      "('Grey Poupon', 743.7899780273438, 1)\n",
      "('Diet Chris Cola', 9443.900390625, 2)\n",
      "('Prego', 9443.900390625, 2)\n",
      "('Kettle Brand', 2400.9099731445312, 3)\n",
      "('Cheetos', 4721.9501953125, 1)\n",
      "('Cracker Barrel Cheese', 5213.770202636719, 4)\n",
      "('Tostitos', 23812.969787597656, 43)\n"
     ]
    }
   ],
   "source": [
    "mycursor.execute(\"DROP TABLE IF EXISTS topbrand_newUser\")\n",
    "mycursor.execute(\"CREATE TEMPORARY TABLE topbrand_newUser AS\\\n",
    "                 SELECT brands_updated.name, SUM(receipts_updated.total_spent) as spends, count(*) as transNum\\\n",
    "                  FROM receipts_rewardList INNER JOIN brands_updated ON receipts_rewardList.barcode = brands_updated.barcode INNER JOIN receipts_updated ON receipts_updated.id = receipts_rewardList.receipt_id INNER JOIN  users_updated ON users_updated.id = receipts_updated.user_id\\\n",
    "                  where SUBSTRING(users_updated.created_date, 1, 10) >= '2020-09-01' \\\n",
    "                  GROUP BY brands_updated.name\")\n",
    "\n",
    "mycursor.execute(\"SELECT * FROM topbrand_newUser\")\n",
    "myresult = mycursor.fetchall()\n",
    "\n",
    "for x in myresult:\n",
    "  print(x)"
   ]
  },
  {
   "cell_type": "code",
   "execution_count": 48,
   "metadata": {},
   "outputs": [
    {
     "name": "stdout",
     "output_type": "stream",
     "text": [
      "('Tostitos', 23812.969787597656)\n"
     ]
    }
   ],
   "source": [
    "mycursor.execute(\"SELECT name, spends FROM topbrand_newUser ORDER BY spends DESC LIMIT 1\")\n",
    "\n",
    "\n",
    "myresult = mycursor.fetchall()\n",
    "\n",
    "for x in myresult:\n",
    "  print(x)\n"
   ]
  },
  {
   "attachments": {},
   "cell_type": "markdown",
   "metadata": {},
   "source": [
    "#### Which brand has the most transactions among users who were created within the past 6 months?"
   ]
  },
  {
   "cell_type": "code",
   "execution_count": 49,
   "metadata": {},
   "outputs": [
    {
     "name": "stdout",
     "output_type": "stream",
     "text": [
      "('Tostitos', 43)\n"
     ]
    }
   ],
   "source": [
    "mycursor.execute(\"SELECT name, transNum FROM topbrand_newUser ORDER BY transNum DESC LIMIT 1\")\n",
    "\n",
    "myresult = mycursor.fetchall()\n",
    "\n",
    "for x in myresult:\n",
    "  print(x)\n"
   ]
  },
  {
   "attachments": {},
   "cell_type": "markdown",
   "metadata": {},
   "source": [
    "### Evaluate Data Quality Issues in the Data Provided"
   ]
  },
  {
   "attachments": {},
   "cell_type": "markdown",
   "metadata": {},
   "source": [
    "When writing the SQL queries, I find out there are several issues:"
   ]
  },
  {
   "attachments": {},
   "cell_type": "markdown",
   "metadata": {},
   "source": [
    "-  data issue 1: the same barcode has different names"
   ]
  },
  {
   "cell_type": "code",
   "execution_count": 50,
   "metadata": {},
   "outputs": [
    {
     "name": "stdout",
     "output_type": "stream",
     "text": [
      "('511111504788', 2)\n",
      "('511111305125', 2)\n",
      "('511111504139', 2)\n",
      "('511111204923', 2)\n",
      "('511111605058', 2)\n",
      "('511111004790', 2)\n",
      "('511111704140', 2)\n"
     ]
    }
   ],
   "source": [
    "# find out duplicate rows in the brands_updated.csv\n",
    "mycursor.execute(\"SELECT barcode, COUNT(*) FROM brands_updated GROUP BY barcode HAVING COUNT(*) > 1\")\n",
    "myresult = mycursor.fetchall()\n",
    "\n",
    "for x in myresult:\n",
    "  print(x)"
   ]
  },
  {
   "cell_type": "code",
   "execution_count": 51,
   "metadata": {},
   "outputs": [],
   "source": [
    "# export the required packages as requirement.txt\n",
    "!pip freeze > requirements.txt\n"
   ]
  }
 ],
 "metadata": {
  "kernelspec": {
   "display_name": "base",
   "language": "python",
   "name": "python3"
  },
  "language_info": {
   "codemirror_mode": {
    "name": "ipython",
    "version": 3
   },
   "file_extension": ".py",
   "mimetype": "text/x-python",
   "name": "python",
   "nbconvert_exporter": "python",
   "pygments_lexer": "ipython3",
   "version": "3.8.8"
  },
  "orig_nbformat": 4
 },
 "nbformat": 4,
 "nbformat_minor": 2
}
